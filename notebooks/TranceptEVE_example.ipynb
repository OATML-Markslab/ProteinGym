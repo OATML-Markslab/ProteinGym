{
 "cells": [
  {
   "cell_type": "markdown",
   "id": "410842ba-dace-4df2-8fff-7ae4809eac27",
   "metadata": {},
   "source": [
    "This notebook walks through all the steps required to run TranceptEVE on a deep mutational scan (DMS)\n",
    "To run this notebook you need: \n",
    "* a csv with all the mutant sequences in the same format as the other proteingym datasets (i.e. they need a mutated_sequence column with all the mutated sequences and a DMS_score column with the experimental values)\n",
    "* A multiple sequence alignment for the target protein of the DMS\n",
    "* A copy of the Tranception checkpoint (small, medium or large) that you want to use\n",
    "* To update the reference file with an additional row describing the DMS (required columns to fill in are \"DMS_id\",\"DMS_filename\",\"MSA_filename\",\"MSA_theta\",\"MSA_start\",\"MSA_end\",\"weight_file_name\", and \"target_seq\")"
   ]
  },
  {
   "cell_type": "markdown",
   "id": "67c24600-47dc-49f8-9782-cb7cb1db0b30",
   "metadata": {},
   "source": [
    "# Step 0: Alignment Generation\n",
    "If you don't have an alignment for your target protein, there are several methods for generating one:\n",
    "* [EVCouplings](evcouplings.org): You can use the online webserver at [evcouplings.org](evcouplings.org) or download the software and run it locally from [https://github.com/debbiemarkslab/EVcouplings](https://github.com/debbiemarkslab/EVcouplings)\n",
    "* [ColabFold](https://github.com/sokrypton/ColabFold) also includes an MSA generation pipeline.\n",
    "* [BLAST](https://blast.ncbi.nlm.nih.gov/Blast.cgi), the Basic Local Alignment Search Tool, also has a web server for generating alignments\n",
    "* [MUSCLE](https://www.drive5.com/muscle5/) is another commonly used library for alignment generation\n",
    "\n",
    "All the DMS alignments in the original ProteinGym paper were generated using EVCouplings"
   ]
  },
  {
   "cell_type": "markdown",
   "id": "ff7855b8-1c61-46c8-8a4d-dcc002199a53",
   "metadata": {},
   "source": [
    "# Step 1: Training EVE models on wild type MSA \n",
    "The script at proteingym/baselines/EVE/train_VAE.py can be used to train EVE models on an alignment. Below is essentially the same code to run train_VAE.py that is present in scripts/scoring_DMS_zero_shot/training_EVE_models.sh"
   ]
  },
  {
   "cell_type": "code",
   "execution_count": null,
   "id": "8847c7c2-540c-46a1-8946-cb343707a449",
   "metadata": {},
   "outputs": [],
   "source": [
    "# This is the index of the DMS you want to run in the reference file csv.\n",
    "DMS_index=0 # change this to whatever row your new DMS is on \n",
    "# You can train multiple EVE model with different seeds for initialization and then pass them all to TranceptEVE. \n",
    "# The log prior in TranceptEVE will then be the ensemble of all those models \n",
    "random_seeds = [0,1,2,3,4]\n",
    "\n",
    "model_parameters_location='../proteingym/baselines/EVE/EVE/default_model_params.json'\n",
    "training_logs_location='../proteingym/baselines/EVE/logs/'\n",
    "DMS_reference_file_path=\"../reference_files/DMS_substitutions.csv\"\n",
    "\n",
    "# replace the below with the locations of the MSAs and assay csvs on your machine \n",
    "\n",
    "DMS_MSA_data_folder=\"Folder containing multiple sequence alignments in a2m format\" \n",
    "# This is where the EVE models will be written out. The filenames are in the format input-msa-name_seed\n",
    "DMS_EVE_model_folder=\"Folder where EVE models will be saved\"\n",
    "# if you don't already have weights here for the MSA, the EVE training script will generate them \n",
    "DMS_MSA_weights_folder=\"Folder where MSA weights will be saved\" \n",
    "\n",
    "# Note that these models generally take a few hours to train, so it is likely easier to run the training_EVE_models.sh script mentioned above and \n",
    "# train several in parallel than to do them sequentially in a notebook here. \n",
    "for seed in random_seeds:\n",
    "    command = f\"../proteingym/baselines/EVE/train_VAE.py \\\n",
    "            --MSA_data_folder {DMS_MSA_data_folder} \\\n",
    "            --DMS_reference_file_path {DMS_reference_file_path} \\\n",
    "            --protein_index {DMS_index} \\\n",
    "            --MSA_weights_location {DMS_MSA_weights_folder} \\\n",
    "            --VAE_checkpoint_location {DMS_EVE_model_folder} \\\n",
    "            --model_parameters_location {model_parameters_location} \\\n",
    "            --training_logs_location {training_logs_location} \\\n",
    "            --threshold_focus_cols_frac_gaps 1 \\\n",
    "            --seed {seed} \\\n",
    "            --skip_existing \\\n",
    "            --experimental_stream_data\"\n",
    "    !python $command\n"
   ]
  },
  {
   "cell_type": "markdown",
   "id": "d755a049-3d0e-4449-a993-0c06191e151c",
   "metadata": {},
   "source": [
    "# Step 2: Scoring with TranceptEVE\n",
    "Now that the EVE models are trained, we can use them in conjunction with the downloaded Tranception checkpoint to run TranceptEVE. The below code is essentially the same as the script at scripts/scoring_DMS_zero_shot/scoring_TranceptEVE_substitutions.sh. The code for scoring indels is essentially the same, with two extra parameters (A flag for setting Tranception to indel mode, \n",
    "and a path to an installation of Clustal Omega which is an alignment tool used as part of the retrieval process with indels). "
   ]
  },
  {
   "cell_type": "code",
   "execution_count": null,
   "id": "a90a60ea-0cd9-4574-b30a-17313af499c6",
   "metadata": {
    "scrolled": true
   },
   "outputs": [],
   "source": [
    "# These values need to match those in the prior steps, so that the script finds the correct EVE models \n",
    "DMS_index=0 \n",
    "random_seeds = [0,1,2,3,4]\n",
    "DMS_MSA_data_folder=\"Folder containing MSA files in a2m format\"\n",
    "model_parameters_location='../proteingym/baselines/EVE/EVE/default_model_params.json'\n",
    "DMS_EVE_model_folder=\"Folder containing EVE models\"\n",
    "DMS_MSA_weights_folder=\"Folder containing MSA weights\"\n",
    "DMS_reference_file_path=\"../reference_files/DMS_substitutions.csv\"\n",
    "\n",
    "# These are new for trancepteve \n",
    "\n",
    "inference_time_retrieval_type=\"TranceptEVE\"\n",
    "# This is the number of samples taken from each EVE model to generate the log prior. This is done at the start of the script and then cached\n",
    "# so that later runs with the same EVE models don't have to recompute it. \n",
    "EVE_num_samples_log_proba=200000\n",
    "# For long proteins, \"sliding\" rather than \"optimal\" may be ideal for this parameter. \n",
    "scoring_window=\"optimal\" \n",
    "\n",
    "# These can be changed based on where the Tranception checkpoint and DMS data files are stored and where you want the output scores to write to \n",
    "DMS_data_folder=\"Folder containing DMS assay csvs\"\n",
    "checkpoint = \"Tranception model checkpoint path\"\n",
    "output_scores_folder=\"Path to folder where scores will be saved\" \n",
    "\n",
    "command = f\"../proteingym/baselines/trancepteve/score_trancepteve.py \\\n",
    "                --checkpoint {checkpoint} \\\n",
    "                --DMS_reference_file_path {DMS_reference_file_path} \\\n",
    "                --DMS_data_folder {DMS_data_folder} \\\n",
    "                --DMS_index {DMS_index} \\\n",
    "                --output_scores_folder {output_scores_folder} \\\n",
    "                --inference_time_retrieval_type {inference_time_retrieval_type} \\\n",
    "                --MSA_folder {DMS_MSA_data_folder} \\\n",
    "                --MSA_weights_folder {DMS_MSA_weights_folder} \\\n",
    "                --EVE_num_samples_log_proba {EVE_num_samples_log_proba} \\\n",
    "                --EVE_model_parameters_location {model_parameters_location} \\\n",
    "                --EVE_model_folder {DMS_EVE_model_folder} \\\n",
    "                --scoring_window {scoring_window} \\\n",
    "                --EVE_seeds {\" \".join(random_seeds)} \\\n",
    "                --EVE_recalibrate_probas\"\n",
    "!python $command"
   ]
  }
 ],
 "metadata": {
  "kernelspec": {
   "display_name": "Python 3 (ipykernel)",
   "language": "python",
   "name": "python3"
  },
  "language_info": {
   "codemirror_mode": {
    "name": "ipython",
    "version": 3
   },
   "file_extension": ".py",
   "mimetype": "text/x-python",
   "name": "python",
   "nbconvert_exporter": "python",
   "pygments_lexer": "ipython3",
   "version": "3.9.18"
  }
 },
 "nbformat": 4,
 "nbformat_minor": 5
}
